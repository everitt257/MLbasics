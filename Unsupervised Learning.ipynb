{
 "cells": [
  {
   "cell_type": "markdown",
   "metadata": {},
   "source": [
    "$\\newcommand{\\R}{\\operatorname{\\mathbb{R}}}$"
   ]
  },
  {
   "cell_type": "markdown",
   "metadata": {},
   "source": [
    "## The K-means clustering algorithm\n",
    "The k-means clustering algorithm is as follows:\n",
    "1. Initialize **cluster centroids** $u_1, u_2, ..., u_k \\in \\R$\n",
    "2. Repeat until convergence: \n",
    "    - For every i, set\n",
    "        $$c^{(i)}:= arg \\; \\min_j ||x^{(i)}-u_j||^2$$\n",
    "    - For each j, set\n",
    "        $$u_j := \\frac{\\sum^m_{i=1}1\\{c^{(i)} = j\\}x^{(i)}}{\\sum^m_{i=1}1\\{c^{(i)=j}\\}}$$\n",
    "    \n",
    "    "
   ]
  },
  {
   "cell_type": "code",
   "execution_count": null,
   "metadata": {
    "collapsed": true
   },
   "outputs": [],
   "source": []
  }
 ],
 "metadata": {
  "kernelspec": {
   "display_name": "Python 3",
   "language": "python",
   "name": "python3"
  },
  "language_info": {
   "codemirror_mode": {
    "name": "ipython",
    "version": 3
   },
   "file_extension": ".py",
   "mimetype": "text/x-python",
   "name": "python",
   "nbconvert_exporter": "python",
   "pygments_lexer": "ipython3",
   "version": "3.6.3"
  }
 },
 "nbformat": 4,
 "nbformat_minor": 2
}
