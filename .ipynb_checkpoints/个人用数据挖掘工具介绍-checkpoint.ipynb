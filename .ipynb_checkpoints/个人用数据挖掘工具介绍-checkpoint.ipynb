{
 "cells": [
  {
   "cell_type": "markdown",
   "metadata": {},
   "source": [
    "# 个人用数据挖掘工具/框架介绍\n",
    "这个文档主要是介绍我现在使用的一些数据挖掘工具以及未来预期可能会用到的一些工具。如果有讲得不对的地方请指正。\n",
    "\n",
    "## 工具部分\n",
    "工具分**基本框架**和**机器学习的框架**\n",
    "### 基本框架：\n",
    "- numpy \n",
    "    - 一个用python实现的科学计算包, 一般用计算矩阵\n",
    "- pandas\n",
    "    - 配合numpy做数据分析用，方便读取csv,excel,各种关系型数据库\n",
    "- matplotlib\n",
    "    - 配合numpy画图，出报表\n",
    "- jupyter\n",
    "    - 提供交互式的页面方便分析，同时支持markdown轻量级语法与html语法，支持latex数学公式，支持代码高亮等\n",
    "    - **More about jupyter**\n",
    "        - 省去出图后忘记写报告的烦恼\n",
    "        - 支持多种语言多种包，不用重复造轮子(强大的Kernel)\n",
    "        - 可远程连接，比如在amazon ec2开一个jupyter server然后在家进行gpu的并行计算\n",
    "        - 严格来说类似jupyter产品还有mathematica, MATLAB live script等，不过后者要给钱，也不是那么容易hackable\n",
    "        - jupyter比较容易hackable是因为你可以写javascript给它添加插件什么的，比如这个[toc](https://github.com/ipython-contrib/jupyter_contrib_nbextensions/tree/master/src/jupyter_contrib_nbextensions/nbextensions/toc2)\n",
    "        - **不足之处**\n",
    "            - 语法略罗嗦\n",
    "            - 竟然没有变量查看器\n",
    "            - 还是上面那点，没有变量查看器，搜索类似excel一样的dataframe必须写类似sql的查询语句\n",
    "            - 图像部分不够交互，并不能像matlab一样直接拖动或放大，不过这些问题部分可以由plotly解决（另外一个画图包）\n",
    "            - 中文支持得比较差\n",
    "        \n",
    "### 机器学习框架：\n",
    "- scikit(sk-learn)\n",
    "    - 机器学习的包，提供各种与机器学习相关的算法，数据处理的小工具\n",
    "        - 数据预处理包括shuffle, train_test_split, ,one-hot-encoding等\n",
    "        - 这是一个庞大的包，版本更新也比较快所以有些功能的命名可能也变了\n",
    "        - 数据量不大的话用这个还是很方便的\n",
    "        \n",
    "**下面是一些图像方面的框架**\n",
    "- tensorflow\n",
    "    - 这个是谷歌出得用于科学计算的包。一般我用来做图像识别\n",
    "    - 但也可以方便做其他的，如自然语言处理，定义一个RNN跟定义一个CNN基本上差不多\n",
    "    - 它比较方便的地方是已经定义很多跟卷积分相关的函数，也可以自动求微分，所以back-propagation变得相对简单\n",
    "    - 据说是有很高的可移植性，甚至可以内嵌C++, 不过我还没尝试过\n",
    "- keras\n",
    "    - Keras是一个高层神经网络API\n",
    "    - 底层调用的还是tensorflow\n",
    "    - Keras让你快速实验神经网络，不需要定义损失函数，不需要定义训练过程  \n",
    "- opencv2\n",
    "    - 这个是计算机视觉的开源库, 做图像识别总得用到的"
   ]
  },
  {
   "cell_type": "code",
   "execution_count": null,
   "metadata": {
    "collapsed": true
   },
   "outputs": [],
   "source": []
  }
 ],
 "metadata": {
  "kernelspec": {
   "display_name": "Python 3",
   "language": "python",
   "name": "python3"
  },
  "language_info": {
   "codemirror_mode": {
    "name": "ipython",
    "version": 3
   },
   "file_extension": ".py",
   "mimetype": "text/x-python",
   "name": "python",
   "nbconvert_exporter": "python",
   "pygments_lexer": "ipython3",
   "version": "3.6.2"
  }
 },
 "nbformat": 4,
 "nbformat_minor": 2
}
