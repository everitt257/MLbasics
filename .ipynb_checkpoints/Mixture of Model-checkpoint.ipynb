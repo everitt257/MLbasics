{
 "cells": [
  {
   "cell_type": "markdown",
   "metadata": {},
   "source": [
    "## The mixture model\n",
    "### Multinomial distribution of Z\n",
    "$$\n",
    "\\begin{gather*}\n",
    "\\sum_{i=1}^{n}\\phi_i = 1 \\\\\n",
    "\\mathbb{P}(z_i = k) = \\prod \\phi^{\\{z_i=i\\}}_i = \\phi^{\\{z_i=1\\}}_1 \\phi^{\\{z_i=2\\}}_2 \\phi^{\\{z_i=3\\}}_3\n",
    "\\end{gather*}\n",
    "$$\n",
    "\n",
    "### The general mixture model\n",
    "### The mixture of Gaussian\n",
    "### The mixture of Naive Bayes\n",
    "### The drawbacks\n",
    "\n",
    "\n"
   ]
  },
  {
   "cell_type": "code",
   "execution_count": null,
   "metadata": {
    "collapsed": true
   },
   "outputs": [],
   "source": []
  }
 ],
 "metadata": {
  "kernelspec": {
   "display_name": "Python 3",
   "language": "python",
   "name": "python3"
  },
  "language_info": {
   "codemirror_mode": {
    "name": "ipython",
    "version": 3
   },
   "file_extension": ".py",
   "mimetype": "text/x-python",
   "name": "python",
   "nbconvert_exporter": "python",
   "pygments_lexer": "ipython3",
   "version": "3.6.2"
  }
 },
 "nbformat": 4,
 "nbformat_minor": 2
}
