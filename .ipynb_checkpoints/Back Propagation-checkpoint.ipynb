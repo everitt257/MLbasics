{
 "cells": [
  {
   "cell_type": "markdown",
   "metadata": {},
   "source": [
    "## Feedforward network\n",
    "Neural network without any loops or cycles. We will focus on implementing the BP algorithm for a three layer feedforward network. "
   ]
  },
  {
   "cell_type": "code",
   "execution_count": 112,
   "metadata": {
    "collapsed": true
   },
   "outputs": [],
   "source": [
    "import numpy as np\n",
    "from copy import copy\n",
    "import matplotlib.pyplot as plt\n",
    "\n",
    "# A example with BP algorithm\n",
    "\n",
    "def sigmoid(x):\n",
    "    \"Binary activation function, output probability\"\n",
    "    return 1 / (1 + np.exp(-x))\n",
    "\n",
    "def dsigmoid(x):\n",
    "    \"Derivative of sigmoid\"\n",
    "    return sigmoid(x)*(1-sigmoid(x))\n",
    "\n",
    "def forward(x,y,params):\n",
    "    \"\"\"compute forward pass, save result to cache\"\"\"\n",
    "    W1,W2,B1,B2 = [params[name] for name in (\"W1\",\"W2\",\"B1\",\"B2\")]\n",
    "    z1 = np.dot(W1,x) + B1\n",
    "    a1 = sigmoid(z1)\n",
    "    z2 = np.dot(W2,a1) + B2\n",
    "    a2 = sigmoid(z2)\n",
    "    loss = -(y * np.log(a2) + (1-y) * np.log(1-a2)) # the cross entropy\n",
    "    cache = {'x': x, 'y': y, \"z1\":z1, \"z2\":z2, \"a1\":a1, \"a2\":a2, \"loss\":loss}\n",
    "    for key in params:\n",
    "        cache[key] = params[key]\n",
    "    return cache\n",
    "    \n",
    "def backward(forward_cache):\n",
    "    \"\"\"Compute backward pass, save partial derivatives to cache\"\"\"\n",
    "    x, y, z1, a1, z2, a2, loss = [forward_cache[key] for key in ('x', 'y', 'z1', 'a1', 'z2', 'a2', 'loss')]\n",
    "    dz2 = (a2-y) # 1x1\n",
    "    dW2 = np.dot(dz2, a1.T) # 1x1 x 1x2\n",
    "    dB2 = dz2 \n",
    "    dz1 = np.dot(forward_cache['W2'].T, dz2) * dsigmoid(z1) \n",
    "    dW1 = np.dot(dz1, x.T)\n",
    "    dB1 = dz1\n",
    "    dloss = {'B1': dB1, 'W1': dW1, 'B2': dB2, 'W2': dW2}\n",
    "    return dloss\n",
    "\n",
    "def init():\n",
    "    \"\"\"Initialize random weights and bias\"\"\"\n",
    "    W1 = np.random.rand(2,2)\n",
    "    B1 = np.random.rand(2,1)\n",
    "    W2 = np.random.rand(1,2)\n",
    "    B2 = np.random.rand(1,1)\n",
    "    names = (\"W1\",\"W2\",\"B1\",\"B2\")\n",
    "    values = (W1,W2,B1,B2)\n",
    "    params = {n : v for n,v in zip(names,values)}\n",
    "    return params"
   ]
  },
  {
   "cell_type": "markdown",
   "metadata": {},
   "source": [
    "Now we train our two layer network, with gradient decent. Since we only have one sample, it's not possible to use mini-batch gradient decent anyway."
   ]
  },
  {
   "cell_type": "code",
   "execution_count": 134,
   "metadata": {},
   "outputs": [
    {
     "data": {
      "image/png": "[encoded data removed]",
      "text/plain": [
       "<matplotlib.figure.Figure at 0x7f3dda93d518>"
      ]
     },
     "metadata": {},
     "output_type": "display_data"
    }
   ],
   "source": [
    "# Train\n",
    "x = np.random.rand(2, 1)\n",
    "y = np.random.randint(0, 2) # label is either 0 or 1\n",
    "params = init()\n",
    "a = 0.1 # stepsize\n",
    "loss_list = []\n",
    "\n",
    "for i in range(100):\n",
    "    f_cache = forward(x,y,params)\n",
    "    b_cache = backward(f_cache)\n",
    "    absDiff = np.abs(y-f_cache['a2'])\n",
    "    #print(\"iteration {0}, loss {1}, absDiff {2}:\".format(i+1,f_cache['loss'],absDiff))\n",
    "    loss_list.append(float(f_cache['loss']))\n",
    "    # update\n",
    "    parameters = (\"W1\",\"W2\",\"B1\",\"B2\")\n",
    "    for param in parameters:\n",
    "        params[param] = params[param] - a*b_cache[param]\n",
    "\n",
    "\n",
    "iteration = np.arange(1,101,1)\n",
    "plt.plot(iteration, loss_list)\n",
    "plt.ylabel('Loss')\n",
    "plt.show()"
   ]
  },
  {
   "cell_type": "markdown",
   "metadata": {},
   "source": [
    "As you can see, the loss gradually decreases. One thing to keep in mind is that the speed this model or any model learns can be determined by many things. The learning rate $a$ is our top priority. If things doesn't do well, always adjust $a$ first. Other factors might include the loss function, the activation function, the number of neurons, or the way the parameters are initialized.\n",
    "\n",
    "Below is taken from standford [cs 229 material](http://ufldl.stanford.edu/tutorial/supervised/MultiLayerNeuralNetworks/)\n",
    "\n",
    "> In general, the backpropagation algorithm also involves a regulurization term:\n",
    "$$\n",
    "\\begin{align}\n",
    "J(W,b; x,y) = \\frac{1}{2} \\left\\| h_{W,b}(x) - y \\right\\|^2.\n",
    "\\end{align}\n",
    "$$\n",
    "This is a (one-half) squared-error cost function. Given a training set of mm examples, we then define the overall cost function to be:\n",
    "$$\n",
    "\\begin{align}\n",
    "J(W,b)\n",
    "&= \\left[ \\frac{1}{m} \\sum_{i=1}^m J(W,b;x^{(i)},y^{(i)}) \\right]\n",
    "                       + \\frac{\\lambda}{2} \\sum_{l=1}^{n_l-1} \\; \\sum_{i=1}^{s_l} \\; \\sum_{j=1}^{s_{l+1}} \\left( W^{(l)}_{ji} \\right)^2\n",
    " \\\\\n",
    "&= \\left[ \\frac{1}{m} \\sum_{i=1}^m \\left( \\frac{1}{2} \\left\\| h_{W,b}(x^{(i)}) - y^{(i)} \\right\\|^2 \\right) \\right]\n",
    "                       + \\frac{\\lambda}{2} \\sum_{l=1}^{n_l-1} \\; \\sum_{i=1}^{s_l} \\; \\sum_{j=1}^{s_{l+1}} \\left( W^{(l)}_{ji} \\right)^2\n",
    "\\end{align}\n",
    "$$"
   ]
  }
 ],
 "metadata": {
  "kernelspec": {
   "display_name": "Python 3",
   "language": "python",
   "name": "python3"
  },
  "language_info": {
   "codemirror_mode": {
    "name": "ipython",
    "version": 3
   },
   "file_extension": ".py",
   "mimetype": "text/x-python",
   "name": "python",
   "nbconvert_exporter": "python",
   "pygments_lexer": "ipython3",
   "version": "3.6.2"
  }
 },
 "nbformat": 4,
 "nbformat_minor": 2
}
