{
 "cells": [
  {
   "cell_type": "markdown",
   "metadata": {},
   "source": [
    "## Convexity of Linear function and affine functions\n",
    "$$f(x) = ax + b$$\n",
    "\n",
    "Given $t\\in [0,1]$\n",
    "\n",
    "Proof of convex:\n",
    "$$Left = f(tx_1+(1-t)x_2) = a(tx_1+(1-t)x_2) + b = atx_1 + a(1-t)x_2 + b$$\n",
    "\n",
    "$$Right = tf(x_1)+(1-t)f(x_2) = atx_1 + b + ax_2 + b - (tx_2 + b) = atx_1 + a(1-t)x_2 + b$$\n",
    "\n",
    "$$Left == Right$$\n",
    "\n",
    "Therefore both linear and affine functions are both convex and concave."
   ]
  },
  {
   "cell_type": "markdown",
   "metadata": {},
   "source": [
    "## Gradient always points in the inverse steepest descent\n",
    "Given $f(x)$ continous differentiable, let $u$ be a unit vector pointing towards some direction and $\\alpha$ a sufficient small number, s.t $\\vert u \\vert = 1$. We have the following\n",
    "$$\n",
    "f(x+\\alpha u) \\approx f(x) + \\alpha \\sum_{i=1}^{n} \\dfrac{\\partial{f}}{\\partial{x_i}}u_i + o(\\alpha)\n",
    "$$\n",
    "\n",
    "Taking the limit of $\\alpha$, we have the following,\n",
    "$$\n",
    "\\lim_{\\alpha\\to 0}{\\dfrac{f(x+\\alpha u)-f(x)}{\\alpha}} = \\nabla^{T}{f(x)}u\n",
    "$$\n",
    "\n",
    "This is to say that the directional derivative is at max if $u$ is in the same direction as $\\nabla^{T}{f(x)}$.\n",
    "\n",
    "Recall from high school math that $ab = \\vert{a}\\vert \\vert{b}\\vert cos(\\theta)$ is at max if $a$ and $b$ are in the same direction."
   ]
  },
  {
   "cell_type": "markdown",
   "metadata": {},
   "source": [
    "## Lagrange Multiplier\n",
    "The proof of why lagrange multiplier works is beyong the scope of this slide. I highly recommend reading the notes from Prof. R. Srikant on [ECE490](https://sites.google.com/site/ece490spring2017/home).\n",
    "\n",
    "Also the book on [**Nonlinear Programming**](http://www.athenasc.com/nonlinbook.html) by Prof. Bertsekas. Notice Prof. R. Srikant actually summarized his notes from this book. \n",
    "### Equality Constraints\n",
    "#### The setup\n",
    "![](http://om1hdizoc.bkt.clouddn.com/17-11-28/54624118.jpg)\n",
    "#### The solution\n",
    "![](http://om1hdizoc.bkt.clouddn.com/17-11-28/84129065.jpg)\n",
    "\n",
    "### Inequality Constraints\n",
    "#### The setup\n",
    "![](http://om1hdizoc.bkt.clouddn.com/17-11-28/22352278.jpg)\n",
    "#### The solution\n",
    "![](http://om1hdizoc.bkt.clouddn.com/17-11-28/59214010.jpg)"
   ]
  }
 ],
 "metadata": {
  "kernelspec": {
   "display_name": "Python 3",
   "language": "python",
   "name": "python3"
  },
  "language_info": {
   "codemirror_mode": {
    "name": "ipython",
    "version": 3
   },
   "file_extension": ".py",
   "mimetype": "text/x-python",
   "name": "python",
   "nbconvert_exporter": "python",
   "pygments_lexer": "ipython3",
   "version": "3.6.2"
  }
 },
 "nbformat": 4,
 "nbformat_minor": 2
}
