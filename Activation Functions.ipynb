{
 "cells": [
  {
   "cell_type": "markdown",
   "metadata": {},
   "source": [
    "## Activation Functions\n",
    "In this post, I'll talk about common activation functions and their impact on the neural network.\n",
    "- step-function (or the perceptron model)\n",
    "$$\n",
    "f(x) =\n",
    "\\begin{cases}\n",
    "0 & wx+b \\leq \\text{threshold} \\\\\n",
    "1 & wx+b \\geq \\text{threshold}\n",
    "\\end{cases}\n",
    "$$\n",
    "- sigmoid\n",
    "$$\n",
    "\\begin{gather*}\n",
    "f(z) = \\frac{1}{1+e^z} \\\\\n",
    "z = wx+b\n",
    "\\end{gather*}\n",
    "$$\n",
    "    - Maps the output to the region $[0,1]$.\n",
    "- tanh\n",
    "$$\n",
    "\\begin{gather*}\n",
    "f(z) = tanh(z) = \\frac{e^{z} - e^{-z}}{e^{z} + e^{-z}} \\\\\n",
    "z = wx+b\n",
    "\\end{gather*}\n",
    "$$\n",
    "    - Maps the output to the region $[-1,1]$.\n",
    "- RELU\n",
    "$$\n",
    "f(x) =\n",
    "\\begin{cases}\n",
    "wx+b & wx+b \\geq 0 \\\\\n",
    "0 & wx+b < 0\n",
    "\\end{cases}\n",
    "$$\n",
    "- ELU\n",
    "    - Not included yet\n",
    "\n",
    "### Discussion about these functions\n",
    "- The Step function. The step function are great for generating circuit-like structure. However when we want to do something as subtle as to recognize text. The step function wouldn't be the correct activation function for it. Since small change in weights can cause the output flip completely, it will be exceptionally difficult to debug and find out the correct parameters.\n",
    "- The Sigmoid function. Unlike the step function, the sigmoid function adapts rather well to small changes with parameter tuning. The drawback with sigmoid is that it saturate at both end, for both very large output or very small output. Its only meaningful when $wx+b$is of modest size that there's much deviation from the perceptron model. \n",
    "    - Another thing with sigmoid is that they are smooth, which mean works well with BP since it requires taking derivatives. Also sigmoid's derivative is really simple to compute. Big advantage.\n",
    "- The tanh function. The tanh function is just a rescaled version of the sigmoid function. There are a few reasons we might want to use tanh instead of sigmoid as our activation function\n",
    "> The assumption----In other words, all weights to the same neuron must either increase together or decrease together. That's a problem, since some of the weights may need to increase while others need to decrease. That can only happen if some of the input activations have different signs. That suggests replacing the sigmoid by an activation function, such as tanhtanh, which allows both positive and negative activations. **no systematic bias for the weight updates to be one way or the other** [ref](http://neuralnetworksanddeeplearning.com/chap3.html#eqtn72)\n",
    "    \n",
    "    > The truth----Indeed, for many tasks the tanh is found empirically to provide only a small or no improvement in performance over sigmoid neurons. **Unfortunately, we don't yet have hard-and-fast rules to know which neuron** types will learn fastest, or give the best generalization performance, for any particular application.\n",
    "\n",
    "- The RELU function. The RELU doesn't suffer from saturation when the output $z$ is close to 0 or 1. However one drawbacks is when the weighted input to a RELU is negative, the gradient vanishes, and so the neuron stops learning entirely."
   ]
  }
 ],
 "metadata": {
  "kernelspec": {
   "display_name": "Python 3",
   "language": "python",
   "name": "python3"
  },
  "language_info": {
   "codemirror_mode": {
    "name": "ipython",
    "version": 3
   },
   "file_extension": ".py",
   "mimetype": "text/x-python",
   "name": "python",
   "nbconvert_exporter": "python",
   "pygments_lexer": "ipython3",
   "version": "3.6.2"
  }
 },
 "nbformat": 4,
 "nbformat_minor": 2
}
