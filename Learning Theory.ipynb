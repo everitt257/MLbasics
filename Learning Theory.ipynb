{
 "cells": [
  {
   "cell_type": "markdown",
   "metadata": {},
   "source": [
    "$\\newcommand{\\E}{\\operatorname{\\mathbb{E}}}$\n",
    "$\\newcommand{\\P}{\\operatorname{\\mathbb{P}}}$\n",
    "$\\newcommand{\\R}{\\operatorname{\\mathbb{R}}}$"
   ]
  },
  {
   "cell_type": "markdown",
   "metadata": {},
   "source": [
    "## Learning theory\n",
    "### Generalization error\n",
    "**Questions** that we might want to ask:\n",
    "- Most learning algorithms fit their models to the training set, why should doing well on the training set tell us anything about generalization error?\n",
    "- Can we relate error on the training set to generalization error?\n",
    "- Are there conditions under which we can actually prove that learning algorithms will work well?\n",
    "\n",
    "**Hoeffding inequality** (Perhaps the most important inequality in learning theory)\n",
    "$$\n",
    "\\P(\\frac{1}{n}\\sum_{i=1}^{n}(Z_i-\\E(Z_i)) \\geq t) \\leq exp(-\\frac{2nt^2}{(b-a)^2})\n",
    "$$\n",
    "\n",
    "1. Markov's inequality:\n",
    "$$\\operatorname{\\mathbb{P}}(Z\\geq t) \\leq \\frac{\\operatorname{\\mathbb{E}}[Z]}{t}$$\n",
    "    * Let Z be an non-negative r.v and t > 0\n",
    "    * Link to the [proof](http://cs229.stanford.edu/extra-notes/hoeffding.pdf).\n",
    "\n",
    "2. Chebyshev's inequality: A consequence of Markov's inequality\n",
    "$$\n",
    "\\begin{split}\n",
    "\\operatorname{\\mathbb{P}}(Z \\geq \\operatorname{\\mathbb{E}}+t\\; or \\;Z \\leq \\operatorname{\\mathbb{E}(Z)}-t) &= \\operatorname{\\mathbb{P}}((Z - \\operatorname{\\mathbb{E}(Z)})^2 \\geq t^2) \\\\\n",
    "& \\leq \\frac{\\operatorname{\\mathbb{E}}[(Z-\\operatorname{\\mathbb{E}}(Z))^2]}{t^2} = \\frac{Var(Z)}{t^2}\n",
    "\\end{split}\n",
    "$$\n",
    "    * What this means is that average of random variables with finite variance converges to their mean. Given enough samples.\n",
    "3. Chernoff bounds\n",
    "    * Essentially it's saying, for any $\\lambda$, we have $Z \\geq \\operatorname{\\mathbb{E}}[Z] + t$ if and only if $e^{\\lambda Z} \\geq e^{\\lambda \\operatorname{\\mathbb{E}}[Z] + \\lambda t}$ or $e^{\\lambda (Z-\\operatorname{\\mathbb{E}}[Z]) \\geq e^{\\lambda t}}$\n",
    "    * Chernoff bounds use moment generating functions in a way to give exponential deviation bounds.\n",
    "    * The Chernoff bounds proof is done based on the combination of the moment function of random variable and the markov inequality. \n",
    "    * It also works well with r.v that is the sum of i.i.d random variables. For example it gives bounds in exponential form for r.v that is the sum of i.i.d random variables. \n",
    "4. Jensen's inequality\n",
    "    * The jensen's inequality applies to convex functions. In our case, the most common ones are $f(x) = x^2$, $f(x) = e^x$ and $f(x) = e^{-x}$\n",
    "$$f(\\E(x)) \\leq \\E (f(x))$$\n",
    "in terms of probability.\n",
    "$$f(tx_1 + (1-t)x_2) \\leq tf(x_1) + (1-t)f(x_2)$$\n",
    "also in terms of convex function, for $t \\in [0,1]$.\n",
    "    * Again, Jensen's inequality for probability is just the infinite sums of integral of normal Jensen's inequality. \n",
    "5. Symmetrization\n",
    "    * A technique in probability. This along with Jensen's inequality is used to prove the Hoeffding's lemma.\n",
    "6. Hoeffding's lemma\n",
    "$$\\E[exp(\\lambda(Z-\\E[Z]))] \\leq exp(\\frac{\\lambda^2(b-a)}{8})$$\n",
    "    * Let $Z$ be a bounded random variable with $Z \\in [a,b]$, then the above holds for all $\\lambda \\in \\R$\n",
    "\n",
    "7. Hoeffding's inequality conclusions:\n",
    "    - Point 2 is proven via point 1.\n",
    "    - Point 3 is proven via point 1 in the exponential case. And its generalization applies well to sums of r.vs.\n",
    "    - Point 6 is proven via point 4 and point 5. It serves as intermediate part for proving the Hoeffding's inequality.\n",
    "    - To prove Hoeffding's inequality, we mainly use **Hoeffding's lemma** and **Chernoff bounds** to do so. Namely we use point 3 and 6 to do so.\n",
    "    - Essentially one can interpret Hoeffding's inequality like this: \n",
    "        * The probability of of our estimate for the mean far from the the true mean is small as long as the sample size is large enough. Given each sample is i.i.d. "
   ]
  },
  {
   "cell_type": "markdown",
   "metadata": {},
   "source": [
    "**Empirical risk/error**\n",
    "\n",
    "For a binary classification problem, define empirical risk as:\n",
    "$$\\hat{\\xi}(h) = \\frac{1}{m}\\sum_{i=1}^{m}1\\{h(x^{(i)}) \\neq y^{(i)}\\}$$"
   ]
  },
  {
   "cell_type": "markdown",
   "metadata": {},
   "source": [
    "**Generalization error**\n",
    "\n",
    "- Define generalization error under the **PAC** assumptions.\n",
    "    - traning and testing on the same distribution $D$\n",
    "    - independently drawn training examples\n",
    "- Define generalization error to be the probability that our model $h$ will misclassify our traning sample $(x,y)$\n",
    "\n",
    "$$\\xi(h) = P_{(x,y)\\sim D}(h(x) \\neq y)$$\n",
    "\n",
    "- Note the difference between $\\xi(h)$ and $\\hat{\\xi}(h)$\n",
    "\n",
    "- Empirical risk minimization(ERM)\n",
    "$$\\hat{\\theta} = arg\\; \\min_{\\theta}\\hat{\\xi}(h_{\\theta})$$\n",
    "    - The most \"basic\" learning algorithm\n",
    "    - Define $H$ as the set of all hypothesis used in certain class of algorithm\n",
    "    - The process of empirical risk minimization is then a way of picking the best hypothesis $h$ in the set $H$\n",
    "$$\\hat{h} = arg\\; \\min_{h\\in H}\\hat{\\xi}(h)$$\n",
    "\n",
    "**Example**\n",
    "**Conclusions**"
   ]
  }
 ],
 "metadata": {
  "kernelspec": {
   "display_name": "Python 3",
   "language": "python",
   "name": "python3"
  },
  "language_info": {
   "codemirror_mode": {
    "name": "ipython",
    "version": 3
   },
   "file_extension": ".py",
   "mimetype": "text/x-python",
   "name": "python",
   "nbconvert_exporter": "python",
   "pygments_lexer": "ipython3",
   "version": "3.6.2"
  }
 },
 "nbformat": 4,
 "nbformat_minor": 2
}
